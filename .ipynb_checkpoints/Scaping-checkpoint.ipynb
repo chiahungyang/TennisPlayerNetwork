{
 "cells": [
  {
   "cell_type": "code",
   "execution_count": 1,
   "metadata": {
    "collapsed": false
   },
   "outputs": [],
   "source": [
    "#Scraping data from ATP websites, excluding qualifying\n",
    "\n",
    "import math\n",
    "from lxml import html\n",
    "import requests\n",
    "\n",
    "#to prevent some UnicodeEncodeError\n",
    "import sys\n",
    "reload(sys)\n",
    "sys.setdefaultencoding('utf-8')\n",
    "\n",
    "txt_out = open(\"EdgeList.txt\", \"w\") #the output txt file\n",
    "txt_out.write(\"Source\\tTarget\\tTournament\\tDate\\tRound\\tSet\\n\")\n",
    "ELelem = range(6) #an element of the expected EdgeList, which is also a row in txt_out\n",
    "RoundList = ['F', 'SF', 'QF', '16R', '32R', '64R', '128R'] #a list of record for each possible round\n",
    "\n",
    "for y in range(2015, 1967, -1):\n",
    "    year = str(y)\n",
    "    #get the content of the webpages from the year URL and set up its tree structure\n",
    "    page = requests.get('http://www.atpworldtour.com/en/scores/results-archive?year=%s&tournamentType=atpgs' % year)\n",
    "    tree = html.fromstring(page.content)\n",
    "    \n",
    "    for i in range(100): #for each tournament in this year(the number of tournaments is not supposed to exceed 100)\n",
    "        tourname = tree.xpath('//*[@id=\"scoresResultsArchive\"]/table/tbody/tr[%d]/td[3]/span[1]/text()' % (i+1)) #the name of the tournament of the form of list with one element\n",
    "        tourdate = tree.xpath('//*[@id=\"scoresResultsArchive\"]/table/tbody/tr[%d]/td[3]/span[3]/text()' % (i+1)) #the date of the tournament of the form of list with one element\n",
    "        tournp = tree.xpath('//*[@id=\"scoresResultsArchive\"]/table/tbody/tr[%d]/td[4]/div/div/a[1]/span/text()' % (i+1)) #the number of players in the tournament of the form of list with one element\n",
    "        temp = tree.xpath('//*[@id=\"scoresResultsArchive\"]/table/tbody/tr[%d]/td[8]/a/@href' % (i+1)) #a part of the tournament URL, stored in the form of list with one element\n",
    "        if not (tourname and tourdate and tournp and temp): #jump out of the loop if we get any empty list\n",
    "            break\n",
    "        \n",
    "        #get the tournament URL(the href does not include 'http://www.atpworldtour.com/' in the beginning and '?matchType=singles' at last make sure we got the results of singles)\n",
    "        tourURL = 'http://www.atpworldtour.com/' + temp[0] + '?matchType=singles'\n",
    "        \n",
    "        #get rid of those slash things\n",
    "        tourname[0] = tourname[0][6: len(tourname[0])-5]\n",
    "        tourdate[0] = tourdate[0][2: len(tourdate[0])-2]\n",
    "        tournp[0] = int(tournp[0])\n",
    "        if tournp[0] < 2: \n",
    "            continue\n",
    "        \n",
    "        #get the content of the webpages from the tournament URL and set up its tree structure\n",
    "        tourpage = requests.get(tourURL)\n",
    "        tourtree = html.fromstring(tourpage.content)\n",
    "        \n",
    "        nr = int(math.ceil(math.log(tournp[0], 2))) #number of rounds of the form integer\n",
    "\n",
    "        for r in range(nr): #for each round in the tournament\n",
    "            for j in range(int(math.pow(2, r))): #for each match in a round\n",
    "                winner = tourtree.xpath('//*[@id=\"scoresResultsContent\"]/div/table/tbody[%d]/tr[%d]/td[3]/a/text()' % (r+1, j+1)) #the name of the winner in this match of the form of list with one element\n",
    "                loser = tourtree.xpath('//*[@id=\"scoresResultsContent\"]/div/table/tbody[%d]/tr[%d]/td[7]/a/text()' % (r+1, j+1)) #the name of the loser in this match of the form of list with one element\n",
    "                if not (winner and loser): #jump out of the loop if we get any empty list\n",
    "                    break\n",
    "                    \n",
    "                score = tourtree.xpath('//*[@id=\"scoresResultsContent\"]/div/table/tbody[%d]/tr[%d]/td[8]/a/text()' % (r+1, j+1)) #the score in this match in the form of list with annoying slash things \n",
    "                #get rid of those slash things\n",
    "                score = ''.join(score)\n",
    "                score = score[2:len(score)-1]\n",
    "                \n",
    "                ScoreList = score.split(' ') #the list of the score in each set\n",
    "                if not ScoreList[-1]: #delete the last empty element if there is any \n",
    "                    del ScoreList[-1]\n",
    "                if not ScoreList or ScoreList[0] == '(W/O)': #(W/O) means walkover, which should not be recorded\n",
    "                    break\n",
    "                    \n",
    "                for k in range(len(ScoreList)): #for each set\n",
    "                    #(RET) means that the loser is retired from match and thus lost the match, so the last should not be recorded\n",
    "                    #(DEF) means that the loser is out due to violation, where the last set should not be recorded either\n",
    "                    if (k != len(ScoreList)-1 and (ScoreList[k+1] == '(RET)' or ScoreList[k+1] == '(DEF)')):\n",
    "                        break\n",
    "                        \n",
    "                    #the way we divide ScoreList[m] depends: if the score exceed 7, we divide it to make the difference = 2; if the score are below 6, the case in 'else' still fits\n",
    "                    try:\n",
    "                        if abs(int(ScoreList[k][:len(ScoreList[k])/2])-int(ScoreList[k][len(ScoreList[k])/2:])) == 2:\n",
    "                            winscore = int(ScoreList[k][:len(ScoreList[k])/2])\n",
    "                            losescore = int(ScoreList[k][len(ScoreList[k])/2:])\n",
    "                        else:\n",
    "                            winscore = int(ScoreList[k][:len(ScoreList[k])-len(ScoreList[k])/2])\n",
    "                            losescore = int(ScoreList[k][len(ScoreList[k])-len(ScoreList[k])/2:])\n",
    "                    except:\n",
    "                         break\n",
    "                    \n",
    "                    #store the data in ELelem    \n",
    "                    if winscore == losescore: #there is not supposed to be a tie\n",
    "                        break\n",
    "                    elif winscore > losescore:\n",
    "                        ELelem[0] = loser[0]\n",
    "                        ELelem[1] = winner[0]\n",
    "                    elif winscore < losescore:\n",
    "                        ELelem[0] = winner[0]\n",
    "                        ELelem[1] = loser[0]\n",
    "                    ELelem[2] = tourname[0]\n",
    "                    ELelem[3] = tourdate[0]\n",
    "                    ELelem[4] = RoundList[r]\n",
    "                    ELelem[5] = 'set %d' % (k+1)\n",
    "\n",
    "                    #write data in Elelem to txt_out\n",
    "                    txt_out.write('%s\\t%s\\t%s\\t%s\\t%s\\t%s\\n' % (ELelem[0], ELelem[1], ELelem[2], ELelem[3], ELelem[4], ELelem[5]))\n",
    "txt_out.close()"
   ]
  },
  {
   "cell_type": "code",
   "execution_count": 2,
   "metadata": {
    "collapsed": false
   },
   "outputs": [],
   "source": []
  },
  {
   "cell_type": "code",
   "execution_count": 6,
   "metadata": {
    "collapsed": false,
    "scrolled": true
   },
   "outputs": [
    {
     "name": "stdout",
     "output_type": "stream",
     "text": [
      "282 6519\n"
     ]
    }
   ],
   "source": [
    "#Read the EdgeList and NodeList for each year\n",
    "\n",
    "txt_in = open(\"EdgeList.txt\", \"r\") #the input txt file\n",
    "EdgeList = {}\n",
    "NodeList = {}\n",
    "\n",
    "EdgeList[\"all\"] = [] #storing information of all links\n",
    "NodeList[\"all\"] = [] #storing information of all nodes\n",
    "for y in range(2015, 1967, -1):\n",
    "    EdgeList[\"year_{0}\".format(y)] = [] #storing information of all links in year y\n",
    "    NodeList[\"year_{0}\".format(y)] = [] #storing information of all nodes in year y\n",
    "\n",
    "#store data in EdgeList[\"all\"] from txt_in\n",
    "content = txt_in.read()\n",
    "lines = content.split('\\n')\n",
    "del lines[0]\n",
    "for l in lines: \n",
    "    EdgeList[\"all\"].append(l.split('\\t'))\n",
    "del EdgeList[\"all\"][-1]\n",
    "\n",
    "#create the Nodelist[\"all\"] by adding every end node in the Edgelist[\"all\"], and then remove the duplicates and sort\n",
    "for i in range(len(EdgeList[\"all\"])):\n",
    "    NodeList[\"all\"].append(EdgeList[\"all\"][i][0])\n",
    "    NodeList[\"all\"].append(EdgeList[\"all\"][i][1])\n",
    "NodeList[\"all\"] = list(set(NodeList[\"all\"]))\n",
    "NodeList[\"all\"].sort()\n",
    "\n",
    "for y in range(2015, 1967, -1):\n",
    "    #store data in EdgeList[\"year_y\"] from EdgeList[\"all\"]\n",
    "    for i in range(len(EdgeList[\"all\"])): \n",
    "        date = EdgeList[\"all\"][i][3]\n",
    "        year = date.split('.')[0]\n",
    "        if year == '%d' % y:\n",
    "            EdgeList[\"year_{0}\".format(y)].append(EdgeList[\"all\"][i])\n",
    "        elif year < y:\n",
    "            break\n",
    "    #create the Nodelist[\"year_y\"] by adding every end node in the Edgelist[\"year_y\"], and then remove the duplicates and sort\n",
    "    for j in range(len(EdgeList[\"year_{0}\".format(y)])):\n",
    "        NodeList[\"year_{0}\".format(y)].append(EdgeList[\"year_{0}\".format(y)][j][0])\n",
    "        NodeList[\"year_{0}\".format(y)].append(EdgeList[\"year_{0}\".format(y)][j][1])\n",
    "    NodeList[\"year_{0}\".format(y)] = list(set(NodeList[\"year_{0}\".format(y)]))\n",
    "    NodeList[\"year_{0}\".format(y)].sort()"
   ]
  },
  {
   "cell_type": "code",
   "execution_count": 9,
   "metadata": {
    "collapsed": false
   },
   "outputs": [
    {
     "name": "stdout",
     "output_type": "stream",
     "text": [
      "340 7466\n"
     ]
    }
   ],
   "source": [
    "print len(NodeList[\"year_2000\"]), len(EdgeList[\"year_2000\"])"
   ]
  },
  {
   "cell_type": "code",
   "execution_count": 49,
   "metadata": {
    "collapsed": false
   },
   "outputs": [
    {
     "name": "stdout",
     "output_type": "stream",
     "text": [
      "1\n",
      "2\n"
     ]
    }
   ],
   "source": []
  },
  {
   "cell_type": "code",
   "execution_count": 37,
   "metadata": {
    "collapsed": false
   },
   "outputs": [
    {
     "data": {
      "text/plain": [
       "1"
      ]
     },
     "execution_count": 37,
     "metadata": {},
     "output_type": "execute_result"
    }
   ],
   "source": []
  },
  {
   "cell_type": "code",
   "execution_count": null,
   "metadata": {
    "collapsed": true
   },
   "outputs": [],
   "source": []
  }
 ],
 "metadata": {
  "anaconda-cloud": {},
  "kernelspec": {
   "display_name": "Python [Root]",
   "language": "python",
   "name": "Python [Root]"
  },
  "language_info": {
   "codemirror_mode": {
    "name": "ipython",
    "version": 2
   },
   "file_extension": ".py",
   "mimetype": "text/x-python",
   "name": "python",
   "nbconvert_exporter": "python",
   "pygments_lexer": "ipython2",
   "version": "2.7.12"
  }
 },
 "nbformat": 4,
 "nbformat_minor": 0
}
