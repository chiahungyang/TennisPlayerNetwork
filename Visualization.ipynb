{
 "cells": [
  {
   "cell_type": "code",
   "execution_count": 2,
   "metadata": {
    "collapsed": false
   },
   "outputs": [],
   "source": [
    "import numpy as np\n",
    "import networkx as nx\n",
    "import matplotlib.pyplot as plt\n",
    "import matplotlib as mpl\n",
    "%matplotlib inline"
   ]
  },
  {
   "cell_type": "code",
   "execution_count": 3,
   "metadata": {
    "collapsed": false
   },
   "outputs": [],
   "source": [
    "#Import the EdgeList and define function get_graph\n",
    "\n",
    "txt_in = open(\"EdgeList.txt\", \"r\") #the input txt file\n",
    "EdgeList = []\n",
    "\n",
    "#store data in EdgeList from txt_in\n",
    "content = txt_in.read()\n",
    "lines = content.split('\\n')\n",
    "del lines[0]\n",
    "for l in lines: \n",
    "    EdgeList.append(l.split('\\t'))\n",
    "del EdgeList[-1]\n",
    "\n",
    "def get_graph(EdgeList, YearList):\n",
    "    G = nx.DiGraph()\n",
    "    for y in YearList:\n",
    "        for i in range(len(EdgeList)):\n",
    "            year = EdgeList[i][3].split('.')[0]\n",
    "            if year == str(y):\n",
    "                if G.has_edge(EdgeList[i][0], EdgeList[i][1]):\n",
    "                    G.edge[EdgeList[i][0]][EdgeList[i][1]]['loses'] += 1\n",
    "                else:\n",
    "                    G.add_edge(EdgeList[i][0], EdgeList[i][1], loses = 1)\n",
    "    return G"
   ]
  },
  {
   "cell_type": "code",
   "execution_count": 4,
   "metadata": {
    "collapsed": true
   },
   "outputs": [],
   "source": [
    "G2015 = get_graph(EdgeList, [2015])"
   ]
  },
  {
   "cell_type": "code",
   "execution_count": 6,
   "metadata": {
    "collapsed": false,
    "scrolled": true
   },
   "outputs": [
    {
     "name": "stdout",
     "output_type": "stream",
     "text": [
      "N = 282\n",
      "L = 3063\n"
     ]
    }
   ],
   "source": [
    "print \"N = {}\".format(len(G2015))\n",
    "print \"L = {}\".format(G2015.size())"
   ]
  },
  {
   "cell_type": "code",
   "execution_count": 7,
   "metadata": {
    "collapsed": false
   },
   "outputs": [],
   "source": [
    "'''\n",
    "Write the nodes' label and their in-strength to Visualization_node.txt, in order to adjust the size of nodes. \n",
    "'''\n",
    "\n",
    "txt_out = open(\"Visualization_node.txt\", \"w\") #the output txt file\n",
    "txt_out.write(\"Id\\tIn-strength\\n\")\n",
    "\n",
    "for node in G2015.nodes_iter(): \n",
    "    instrength = G2015.in_degree(node, weight='loses')\n",
    "    txt_out.write(\"{0}\\t{1}\\n\".format(node, instrength))"
   ]
  },
  {
   "cell_type": "code",
   "execution_count": 9,
   "metadata": {
    "collapsed": false
   },
   "outputs": [],
   "source": [
    "'''\n",
    "Write sufficient information to Visualization.txt for visualization. \n",
    "Source = the player who won less sets\n",
    "Target = the player who won more sets\n",
    "Weitht = the number of sets played between two players\n",
    "Color = the ratio of sets won by the Target\n",
    "'''\n",
    "txt_out = open(\"Visualization_edge.txt\", \"w\") #the output txt file\n",
    "txt_out.write(\"Source\\tTarget\\tWeight\\tColor\\n\")\n",
    "\n",
    "H = nx.DiGraph()\n",
    "for source, target, data in G2015.edges_iter(data=True):\n",
    "    if H.has_edge(target, source): \n",
    "        if G2015.edge[source][target]['loses'] > G2015.edge[target][source]['loses']: \n",
    "            H.add_edge(source, target)\n",
    "            H.edge[source][target]['weight'] = float(G2015.edge[source][target]['loses'] + G2015.edge[target][source]['loses'])\n",
    "            H.edge[source][target]['color'] = G2015.edge[source][target]['loses'] / H.edge[source][target]['weight']\n",
    "            H.remove_edge(target, source)\n",
    "        else: \n",
    "            H.edge[target][source]['weight'] = float(G2015.edge[source][target]['loses'] + G2015.edge[target][source]['loses'])\n",
    "            H.edge[target][source]['color'] = G2015.edge[target][source]['loses'] / H.edge[target][source]['weight']\n",
    "    else:\n",
    "        H.add_edge(source, target)\n",
    "        H.edge[source][target]['weight'] = float(G2015.edge[source][target]['loses'])\n",
    "        H.edge[source][target]['color'] = 1.0\n",
    "\n",
    "for source, target, data in H.edges_iter(data=True):\n",
    "    weight = H.edge[source][target]['weight']\n",
    "    color = H.edge[source][target]['color']\n",
    "    txt_out.write(\"{0}\\t{1}\\t{2}\\t{3}\\n\".format(source, target, weight, color))"
   ]
  },
  {
   "cell_type": "code",
   "execution_count": 12,
   "metadata": {
    "collapsed": true
   },
   "outputs": [],
   "source": [
    "'''\n",
    "Bad and less informative version. \n",
    "'''\n",
    "\n",
    "txt_out = open(\"Visualization_bad.txt\", \"w\") #the output txt file\n",
    "txt_out.write(\"Source\\tTarget\\tWeight\\n\")\n",
    "\n",
    "for source, target, data in G2015.edges_iter(data=True):\n",
    "    weight = float(G2015.edge[source][target]['loses'])\n",
    "    txt_out.write(\"{0}\\t{1}\\t{2}\\n\".format(source, target, weight))"
   ]
  },
  {
   "cell_type": "code",
   "execution_count": null,
   "metadata": {
    "collapsed": true
   },
   "outputs": [],
   "source": []
  },
  {
   "cell_type": "code",
   "execution_count": null,
   "metadata": {
    "collapsed": true
   },
   "outputs": [],
   "source": []
  },
  {
   "cell_type": "code",
   "execution_count": 4,
   "metadata": {
    "collapsed": true
   },
   "outputs": [],
   "source": [
    "G1576 = get_graph(EdgeList, range(2015, 1975, -1))"
   ]
  },
  {
   "cell_type": "code",
   "execution_count": 5,
   "metadata": {
    "collapsed": false
   },
   "outputs": [
    {
     "name": "stdout",
     "output_type": "stream",
     "text": [
      "N ~ 3230\n",
      "L ~ 106774\n"
     ]
    }
   ],
   "source": [
    "print \"N ~ {}\".format(len(G1576))\n",
    "print \"L ~ {}\".format(G1576.size())"
   ]
  },
  {
   "cell_type": "code",
   "execution_count": null,
   "metadata": {
    "collapsed": true
   },
   "outputs": [],
   "source": []
  }
 ],
 "metadata": {
  "anaconda-cloud": {},
  "kernelspec": {
   "display_name": "Python [Root]",
   "language": "python",
   "name": "Python [Root]"
  },
  "language_info": {
   "codemirror_mode": {
    "name": "ipython",
    "version": 2
   },
   "file_extension": ".py",
   "mimetype": "text/x-python",
   "name": "python",
   "nbconvert_exporter": "python",
   "pygments_lexer": "ipython2",
   "version": "2.7.12"
  }
 },
 "nbformat": 4,
 "nbformat_minor": 0
}
